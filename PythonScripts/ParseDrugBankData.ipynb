{
 "cells": [
  {
   "cell_type": "code",
   "execution_count": 1,
   "id": "honest-adoption",
   "metadata": {},
   "outputs": [],
   "source": [
    "import numpy as np\n",
    "import pandas as pd\n",
    "import xml.etree.ElementTree as ET\n",
    "import io\n",
    "import xmltodict as x"
   ]
  },
  {
   "cell_type": "code",
   "execution_count": 2,
   "id": "fossil-bennett",
   "metadata": {},
   "outputs": [],
   "source": [
    "# def iter_docs(author):\n",
    "#     author_attr = author.attrib\n",
    "#     for doc in author.iter('schema'):\n",
    "#         doc_dict = author_attr.copy()\n",
    "#         doc_dict.update(doc.attrib)\n",
    "#         for c in doc.iter('complexType')\n",
    "#             for d in d.iter('sequence')\n",
    "#                 doc_dict['data'] = doc.text\n",
    "#         yield doc_dict"
   ]
  },
  {
   "cell_type": "code",
   "execution_count": null,
   "id": "innovative-recognition",
   "metadata": {},
   "outputs": [],
   "source": [
    "# etree = ET.parse(\"/Users/jaina13/Downloads/full database.xml\") #create an ElementTree object \n",
    "# doc_df = pd.DataFrame(list(iter_docs(etree.getroot())))\n",
    "#root = ET.parse(\"/Users/jaina13/Downloads/full database.xml\").getroot()"
   ]
  },
  {
   "cell_type": "code",
   "execution_count": 2,
   "id": "entertaining-longitude",
   "metadata": {},
   "outputs": [],
   "source": [
    "with open(\"/Users/jaina13/myPART/AllSamplesPipeliner/CancerSpecificGenes/full database.xml\") as fd:\n",
    "    doc = x.parse(fd.read())"
   ]
  },
  {
   "cell_type": "code",
   "execution_count": 24,
   "id": "ambient-tokyo",
   "metadata": {},
   "outputs": [],
   "source": [
    "tags = {\"tags\":[]}\n",
    "for elem in doc['drugbank']['drug']:\n",
    "    #tag = {}\n",
    "    #tag[\"name\"] = elem['name']\n",
    "    #tag[\"description\"] = elem['description']\n",
    "    #tag[\"displayFormula\"] = elem['displayFormula']\n",
    "    if(elem['targets'] is not None):\n",
    "        if(isinstance(elem['targets']['target'],list)):\n",
    "            targetsID = []\n",
    "            targetsName = []\n",
    "            for target in elem['targets']['target']:\n",
    "                tag = {}\n",
    "                tag[\"name\"] = elem['name']\n",
    "                #tag[\"description\"] = elem['description']\n",
    "                if(isinstance(elem['groups']['group'],list)):\n",
    "                    tag[\"group\"] = ','.join([str(e) for e in elem['groups']['group']])\n",
    "                else:\n",
    "                    tag[\"group\"] = elem['groups']['group']\n",
    "                tag [\"targetID\"]=target['id']\n",
    "                #tag [\"targetName\"]=target['name']\n",
    "                tags[\"tags\"]. append(tag)\n",
    "                #targetsID.append(target['id'])\n",
    "                #targetsName.append(target['name'])\n",
    "            \n",
    "        else:\n",
    "            target = elem['targets']['target']\n",
    "            tag = {}\n",
    "            tag[\"name\"] = elem['name']\n",
    "            if(isinstance(elem['groups']['group'],list)):\n",
    "                tag[\"group\"] = ','.join([str(e) for e in elem['groups']['group']])\n",
    "            else:\n",
    "                tag[\"group\"] = elem['groups']['group']\n",
    "            #tag[\"description\"] = elem['description']\n",
    "            targetsID = []\n",
    "            targetsName = []\n",
    "            #targetsID.append(target['id'])\n",
    "            #targetsName.append(target['name'])\n",
    "            tag [\"targetID\"]=target['id']\n",
    "            #tag [\"targetName\"]=target['name']\n",
    "            tags[\"tags\"]. append(tag)\n",
    "        #tag [\"targetID\"]=' '.join([str(elem) for elem in targetsID])\n",
    "        #tag [\"targetName\"]=' '.join([str(elem) for elem in targetsName])\n",
    "        #print(tag)\n",
    "        #tags[\"tags\"]. append(tag)\n",
    "df_users = pd.DataFrame(tags[\"tags\"])"
   ]
  },
  {
   "cell_type": "code",
   "execution_count": 26,
   "id": "premier-studio",
   "metadata": {},
   "outputs": [],
   "source": [
    "df_users.to_csv(\"DrugBankTargets-Format.tsv\",index=False,sep=\"\\t\")"
   ]
  },
  {
   "cell_type": "code",
   "execution_count": 28,
   "id": "considered-brain",
   "metadata": {},
   "outputs": [
    {
     "data": {
      "text/plain": [
       "odict_keys(['@type', '@created', '@updated', 'drugbank-id', 'name', 'description', 'cas-number', 'unii', 'state', 'groups', 'general-references', 'synthesis-reference', 'indication', 'pharmacodynamics', 'mechanism-of-action', 'toxicity', 'metabolism', 'absorption', 'half-life', 'protein-binding', 'route-of-elimination', 'volume-of-distribution', 'clearance', 'classification', 'salts', 'synonyms', 'products', 'international-brands', 'mixtures', 'packagers', 'manufacturers', 'prices', 'categories', 'affected-organisms', 'dosages', 'atc-codes', 'ahfs-codes', 'pdb-entries', 'fda-label', 'msds', 'patents', 'food-interactions', 'drug-interactions', 'sequences', 'experimental-properties', 'external-identifiers', 'external-links', 'pathways', 'reactions', 'snp-effects', 'snp-adverse-drug-reactions', 'targets', 'enzymes', 'carriers', 'transporters'])"
      ]
     },
     "execution_count": 28,
     "metadata": {},
     "output_type": "execute_result"
    }
   ],
   "source": [
    "doc['drugbank']['drug'][1].keys()"
   ]
  },
  {
   "cell_type": "code",
   "execution_count": 25,
   "id": "built-technology",
   "metadata": {},
   "outputs": [
    {
     "data": {
      "text/plain": [
       "<bound method NDFrame.head of                            name                     group   targetID\n",
       "0                     Lepirudin                  approved  BE0000048\n",
       "1                     Cetuximab                  approved  BE0000767\n",
       "2                     Cetuximab                  approved  BE0000901\n",
       "3                     Cetuximab                  approved  BE0002094\n",
       "4                     Cetuximab                  approved  BE0002095\n",
       "...                         ...                       ...        ...\n",
       "18861              Berotralstat                  approved  BE0002440\n",
       "18862  Gallium Ga-68 gozetotide                  approved  BE0008983\n",
       "18863              Razuprotafib           investigational  BE0003769\n",
       "18864               Mezagitamab           investigational  BE0005459\n",
       "18865                 Ansuvimab  approved,investigational  BE0010023\n",
       "\n",
       "[18866 rows x 3 columns]>"
      ]
     },
     "execution_count": 25,
     "metadata": {},
     "output_type": "execute_result"
    }
   ],
   "source": [
    "df_users.head"
   ]
  },
  {
   "cell_type": "code",
   "execution_count": 73,
   "id": "caroline-juvenile",
   "metadata": {},
   "outputs": [
    {
     "data": {
      "text/plain": [
       "collections.OrderedDict"
      ]
     },
     "execution_count": 73,
     "metadata": {},
     "output_type": "execute_result"
    }
   ],
   "source": []
  },
  {
   "cell_type": "code",
   "execution_count": null,
   "id": "international-rwanda",
   "metadata": {},
   "outputs": [],
   "source": []
  }
 ],
 "metadata": {
  "kernelspec": {
   "display_name": "Python 3",
   "language": "python",
   "name": "python3"
  },
  "language_info": {
   "codemirror_mode": {
    "name": "ipython",
    "version": 3
   },
   "file_extension": ".py",
   "mimetype": "text/x-python",
   "name": "python",
   "nbconvert_exporter": "python",
   "pygments_lexer": "ipython3",
   "version": "3.9.0"
  }
 },
 "nbformat": 4,
 "nbformat_minor": 5
}
